{
  "nbformat": 4,
  "nbformat_minor": 0,
  "metadata": {
    "colab": {
      "provenance": [],
      "authorship_tag": "ABX9TyMyIV1QhNhIxWqSZ3qY9p6P",
      "include_colab_link": true
    },
    "kernelspec": {
      "name": "python3",
      "display_name": "Python 3"
    },
    "language_info": {
      "name": "python"
    }
  },
  "cells": [
    {
      "cell_type": "markdown",
      "metadata": {
        "id": "view-in-github",
        "colab_type": "text"
      },
      "source": [
        "<a href=\"https://colab.research.google.com/github/AmruthaSmiley/searchings/blob/main/searchings.ipynb\" target=\"_parent\"><img src=\"https://colab.research.google.com/assets/colab-badge.svg\" alt=\"Open In Colab\"/></a>"
      ]
    },
    {
      "cell_type": "markdown",
      "source": [
        "**searchings**\n",
        "\n",
        "*linear*\n",
        "\n",
        "*binary*\n",
        "\n",
        "*sentinel secarh*\n",
        "\n",
        "*fibonacci search*\n",
        "\n",
        "*interpolation search*\n",
        "\n",
        "\n",
        "\"\"\"[45, -9, 77, 32]\n",
        "1. arr of llist of size n\n",
        "2. key for search element\n",
        "3. start with zero index\n",
        "4.compare arr[i]==key\n",
        " arr[i]=key return index\n",
        " else not(move to next index)\n",
        "5. repeat same steps till n-1\n",
        "6. if no match return -1"
      ],
      "metadata": {
        "id": "ju87edpsAjbS"
      }
    },
    {
      "cell_type": "code",
      "execution_count": null,
      "metadata": {
        "colab": {
          "base_uri": "https://localhost:8080/"
        },
        "id": "VFV0-715AZOm",
        "outputId": "23a3e4bd-80b4-4ebc-9992-17a1f3d9edc1"
      },
      "outputs": [
        {
          "output_type": "stream",
          "name": "stdout",
          "text": [
            "enter the size of array:5\n",
            "Enter the elements:\n",
            "Element1:9\n",
            "Element2:2\n",
            "Element3:5\n",
            "Element4:8\n",
            "Element5:1\n",
            "enter the element to search:5\n",
            "\n",
            " Element 5 found at 2\n"
          ]
        }
      ],
      "source": [
        "#linear search\n",
        "def linear_search(arr,key):\n",
        "  for i in range(len(arr)):\n",
        "    if arr[i]==key:\n",
        "      return i\n",
        "  return -1\n",
        "size=int(input(\"enter the size of array:\"))\n",
        "arr=[]\n",
        "print(\"Enter the elements:\")\n",
        "for i in range(size):\n",
        "  num=int(input(f\"Element{i+1}:\"))\n",
        "  arr.append(num)\n",
        "key=int(input(\"enter the element to search:\"))\n",
        "result=linear_search(arr,key)\n",
        "if result !=-1:\n",
        "  print(f\"\\n Element {key} found at {result}\")\n",
        "else:\n",
        "  print(f\"\\n Element {key} not found at {result}\")"
      ]
    },
    {
      "cell_type": "code",
      "source": [
        "#binary search\n",
        "#sceudo code\n",
        "'''set low & high 0->n-1\n",
        "condition low<=high//2\n",
        "arr[mid]==key low mid+1\n",
        "arr[mid]>key high mid-1\n",
        "arr[mid]<key low mid+1\n",
        "not found return -1'''\n",
        "def binary_search(arr, key):\n",
        "  low=0\n",
        "  high=len(arr)-1\n",
        "  while low<=high:\n",
        "    mid= (low+high)//2\n",
        "    if arr[mid]==key:\n",
        "      return mid\n",
        "    elif arr[mid]<key:\n",
        "      low=mid+1\n",
        "    else:\n",
        "      high=mid-1\n",
        "  return -1\n",
        "size=int(input(\"Enter the size of tha array:\"))\n",
        "arr=[]\n",
        "print(\"Enter the elements:\")\n",
        "for i in range(size):\n",
        "  num=int(input(f\"Element{i+1}:\"))\n",
        "  arr.append(num)\n",
        "key=int(input(\"enter the element to search:\"))\n",
        "result=linear_search(arr,key)\n",
        "if result !=-1:\n",
        "  print(f\"\\n Element {key} found at {result}\")\n",
        "else:\n",
        "  print(f\"\\n Element {key} not found at {result}\")\n"
      ],
      "metadata": {
        "id": "i6nkGxsbAuW2"
      },
      "execution_count": null,
      "outputs": []
    },
    {
      "cell_type": "markdown",
      "source": [
        "1.SIZE N/ SORTED\n",
        "\n",
        "2CREATE A BOLCK KEY\n",
        "\n",
        "3.SEARCH OPERATION WILL BE PERFORMED\n",
        "ARR[M]<VAR/KEY<ARR(K+1)[M]\n",
        "\n",
        "4.COMPARE EACH JUMP LINEARLY"
      ],
      "metadata": {
        "id": "u56CHknmA5IG"
      }
    },
    {
      "cell_type": "code",
      "source": [
        "import math\n",
        "def jump_search(arr, target):\n",
        "  if not arr:\n",
        "    return -1\n",
        "  n=len(arr)\n",
        "  step=int(math.sqrt(n))\n",
        "  prev=0\n",
        "  while prev <n and arr[prev] <target:\n",
        "    prev+=step\n",
        "  for i in range(max(0, prev-step), min(n, prev+1)):\n",
        "    if arr[i]==target:\n",
        "      return i\n",
        "  return -1\n",
        "arr=[1, 3, 5, 7, 8, 9, 11]\n",
        "target=7\n",
        "result=jump_search(arr, target)\n",
        "print(f\"Element {target} is found at index: {result}\")"
      ],
      "metadata": {
        "colab": {
          "base_uri": "https://localhost:8080/"
        },
        "id": "k2OXGlRiA58P",
        "outputId": "70cc415c-f197-435b-c3f2-8683fa5ed665"
      },
      "execution_count": null,
      "outputs": [
        {
          "output_type": "stream",
          "name": "stdout",
          "text": [
            "Element 7 is found at index: 3\n"
          ]
        }
      ]
    },
    {
      "cell_type": "markdown",
      "source": [
        "***JUMP SEARCH***"
      ],
      "metadata": {
        "id": "ry-7JP31CW7T"
      }
    },
    {
      "cell_type": "markdown",
      "source": [
        "1.SIZE N/ SORTED\n",
        "\n",
        "2CREATE A BOLCK KEY\n",
        "\n",
        "3.SEARCH OPERATION WILL BE PERFORMED\n",
        "ARR[M]<VAR/KEY<ARR(K+1)[M]\n",
        "\n",
        "4.COMPARE EACH JUMP LINEARLY"
      ],
      "metadata": {
        "id": "B6EcUMh-CSJR"
      }
    },
    {
      "cell_type": "code",
      "source": [
        "import math\n",
        "def jump_search(arr, target):\n",
        "  if not arr:\n",
        "    return -1\n",
        "  n=len(arr)\n",
        "  step=int(math.sqrt(n))\n",
        "  prev=0\n",
        "  while prev <n and arr[prev] <target:\n",
        "    prev+=step\n",
        "  for i in range(max(0, prev-step), min(n, prev+1)):\n",
        "    if arr[i]==target:\n",
        "      return i\n",
        "  return -1\n",
        "arr=[1, 3, 5, 7, 8, 9, 11]\n",
        "target=7\n",
        "result=jump_search(arr, target)\n",
        "print(f\"Element {target} is found at index: {result}\")"
      ],
      "metadata": {
        "colab": {
          "base_uri": "https://localhost:8080/"
        },
        "id": "Or-YzXIECWB-",
        "outputId": "c33d371a-79c0-4b6a-f7ef-adfb1591b5ad"
      },
      "execution_count": null,
      "outputs": [
        {
          "output_type": "stream",
          "name": "stdout",
          "text": [
            "Element 7 is found at index: 3\n"
          ]
        }
      ]
    },
    {
      "cell_type": "markdown",
      "source": [
        "**sorted number searching**\n",
        "\n",
        "1.chech the array!=0\n",
        "\n",
        "2.check the frist element\n",
        "\n",
        "3.check the frist element\n",
        "\n",
        "4.find the range using expo while for boundary identify within boundary\n",
        "\n",
        "5.range perform binary search\n",
        "\n",
        "6.returen result"
      ],
      "metadata": {
        "id": "2R9FeZAgCiZu"
      }
    },
    {
      "cell_type": "code",
      "source": [
        "def bsearch_range(arr, target, left, right):\n",
        "  while left<right:\n",
        "    mid=(left+right)//2\n",
        "    if arr[mid]==target:\n",
        "      return mid\n",
        "    elif arr[mid]<target:\n",
        "      left= mid+1\n",
        "    else:\n",
        "      right=mid-1\n",
        "  return -1\n",
        "def expo_search(arr, target):\n",
        "  if not arr:\n",
        "    return -1\n",
        "  n=len(arr)\n",
        "  if arr[0]==target:\n",
        "    return 0\n",
        "  i=1\n",
        "  while i<n and arr[i]<=target:\n",
        "    i*=2\n",
        "  return bsearch_range(arr, target, i//2, min(i, n-1))\n",
        "arr=[2, 4, 6, 8, 10, 12, 14]\n",
        "target =10\n",
        "result =expo_search(arr, target)\n",
        "print(f\"Elements {target} found at index:{result}\")"
      ],
      "metadata": {
        "colab": {
          "base_uri": "https://localhost:8080/"
        },
        "id": "HqGRkFHbCkGe",
        "outputId": "0bced0c0-e967-42da-db99-823ee5024fe3"
      },
      "execution_count": null,
      "outputs": [
        {
          "output_type": "stream",
          "name": "stdout",
          "text": [
            "Elements 10 found at index:-1\n"
          ]
        }
      ]
    },
    {
      "cell_type": "markdown",
      "source": [
        "# ***fibanocci search***"
      ],
      "metadata": {
        "id": "1Yh6EmrBCsWu"
      }
    },
    {
      "cell_type": "code",
      "source": [
        "def fibsearch(arr, target):\n",
        "  if not arr:\n",
        "    return -1\n",
        "  n=len(arr)\n",
        "  fib2=0\n",
        "  fib1=1\n",
        "  fib=fib1+fib2\n",
        "  while fib<n:\n",
        "    fib2=fib1\n",
        "    fib1=fib\n",
        "    fib=fib1+fib2\n",
        "  offset=-1\n",
        "  while fib>1:\n",
        "    i=min(offset+fib2, n-1)\n",
        "    if arr[i]==target:\n",
        "      return i\n",
        "    elif arr[i]<target:\n",
        "      offset=i\n",
        "      fib=fib1\n",
        "      fib1=fib2fib2=fib-fib1\n",
        "    else:\n",
        "      fib=fib2\n",
        "      fib1=fib1-fib2\n",
        "      fib2=fib-fib1\n",
        "  if fib1 and arr[n-1]==target:\n",
        "    return n-1\n",
        "  return -1\n",
        "arr=[1, 2, 3, 4, 5, 6, 7, 8, 9, 10]\n",
        "target=5\n",
        "result=fibsearch(arr, target)\n",
        "print(f\"Element {target} found at index:{result}\")"
      ],
      "metadata": {
        "colab": {
          "base_uri": "https://localhost:8080/"
        },
        "id": "YX08C09rCuac",
        "outputId": "560f8f89-d35c-40fd-c340-62ad9d886d8f"
      },
      "execution_count": null,
      "outputs": [
        {
          "output_type": "stream",
          "name": "stdout",
          "text": [
            "Element 5 found at index:4\n"
          ]
        }
      ]
    },
    {
      "cell_type": "code",
      "source": [],
      "metadata": {
        "id": "2N9BUXTnDNAD"
      },
      "execution_count": null,
      "outputs": []
    }
  ]
}